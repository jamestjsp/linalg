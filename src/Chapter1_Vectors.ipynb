{
 "cells": [
  {
   "cell_type": "markdown",
   "id": "f854d827-99da-40d4-8fa1-134eb618fee5",
   "metadata": {},
   "source": [
    "# Chapter1: Vectors"
   ]
  },
  {
   "cell_type": "markdown",
   "id": "c96c50f9-4bdf-4f17-82b5-162c64ad2b59",
   "metadata": {},
   "source": [
    "A common way to represent vectors in Python is to use a numpy array. To do so,\n",
    "we must frst import the numpy package."
   ]
  },
  {
   "cell_type": "code",
   "execution_count": 1,
   "id": "4df2ecdf-51c6-46ec-8449-0a0349d61cb2",
   "metadata": {},
   "outputs": [
    {
     "data": {
      "text/plain": [
       "4"
      ]
     },
     "execution_count": 1,
     "metadata": {},
     "output_type": "execute_result"
    }
   ],
   "source": [
    "import numpy as np\n",
    "x = np.array([-1.1, 0.0, 3.6, -7.2])\n",
    "len(x)"
   ]
  },
  {
   "cell_type": "code",
   "execution_count": 2,
   "id": "5f8903b0-86da-4b02-a410-7a8ecf37a178",
   "metadata": {},
   "outputs": [
    {
     "data": {
      "text/plain": [
       "3.6"
      ]
     },
     "execution_count": 2,
     "metadata": {},
     "output_type": "execute_result"
    }
   ],
   "source": [
    "# Indexing\n",
    "x[2]"
   ]
  },
  {
   "cell_type": "markdown",
   "id": "684cd3ff-e541-4181-a6e8-91e102ff1adf",
   "metadata": {},
   "source": [
    "If we used array indexing on the left-hand side of an assignment statement, then the\n",
    "value of the corresponding element changes."
   ]
  },
  {
   "cell_type": "code",
   "execution_count": 3,
   "id": "57199d76-ad13-403c-b9e5-d52897334d73",
   "metadata": {},
   "outputs": [
    {
     "name": "stdout",
     "output_type": "stream",
     "text": [
      "[-1.1  0.  20.  -7.2]\n"
     ]
    }
   ],
   "source": [
    "x[2] = 20.0\n",
    "print(x)"
   ]
  },
  {
   "cell_type": "markdown",
   "id": "8a8ed112-c5ae-428a-80d7-c3065806c79e",
   "metadata": {},
   "source": [
    "-1 is a special index in Python. It is the index of the last element in an array."
   ]
  },
  {
   "cell_type": "code",
   "execution_count": 4,
   "id": "5e1b3311-e931-433c-acfc-351e303408d3",
   "metadata": {},
   "outputs": [
    {
     "data": {
      "text/plain": [
       "-7.2"
      ]
     },
     "execution_count": 4,
     "metadata": {},
     "output_type": "execute_result"
    }
   ],
   "source": [
    "x[-1]"
   ]
  },
  {
   "cell_type": "markdown",
   "id": "457421f9-5708-449b-8d95-17e81b94e299",
   "metadata": {},
   "source": [
    "**Assignment versus copying.** The behavior of an assignment statement y = x where x is\n",
    "an array may be surprising for those who use other languages like Matlab or Octave. The\n",
    "assignment expression gives a new name y to the same array that is already referenced\n",
    "by x instead of creating a copy of x."
   ]
  },
  {
   "cell_type": "code",
   "execution_count": 5,
   "id": "c9cc5429-f985-447b-9427-8bb70a0a2e73",
   "metadata": {},
   "outputs": [
    {
     "name": "stdout",
     "output_type": "stream",
     "text": [
      "[-1.1  0.  20.  -7.2]\n"
     ]
    }
   ],
   "source": [
    "x = np.array([-1.1, 0.0, 3.6, -7.2])\n",
    "y = x\n",
    "x[2] = 20.0\n",
    "print(y)"
   ]
  },
  {
   "cell_type": "code",
   "execution_count": 6,
   "id": "4fb46d38-cc41-4fcb-abdf-e28f86c22874",
   "metadata": {},
   "outputs": [
    {
     "name": "stdout",
     "output_type": "stream",
     "text": [
      "[-1.1  0.   3.6 -7.2]\n"
     ]
    }
   ],
   "source": [
    "# To create a new copy of array x, the method copy should be used.\n",
    "x = np.array([-1.1, 0.0, 3.6, -7.2])\n",
    "y = x.copy()\n",
    "x[2] = 20.0\n",
    "print(y)"
   ]
  },
  {
   "cell_type": "markdown",
   "id": "3722c104-3360-41db-b577-1fcf0999fd05",
   "metadata": {},
   "source": [
    "**Vector equality.** Equality of vectors is checked using the relational operator == (double\n",
    "equal signs). The Python expression evaluates to True if the expression on the left and\n",
    "right-hand side of the relational operator is equal, and to False otherwise."
   ]
  },
  {
   "cell_type": "code",
   "execution_count": 7,
   "id": "c0d61128-46c6-4798-bb01-4c05a159523c",
   "metadata": {},
   "outputs": [
    {
     "data": {
      "text/plain": [
       "array([ True,  True,  True,  True])"
      ]
     },
     "execution_count": 7,
     "metadata": {},
     "output_type": "execute_result"
    }
   ],
   "source": [
    "x = np.array([-1.1, 0.0, 3.6, -7.2])\n",
    "y = x.copy()\n",
    "x == y"
   ]
  },
  {
   "cell_type": "code",
   "execution_count": 8,
   "id": "d2330778-3b24-4174-ac49-5352355a0293",
   "metadata": {},
   "outputs": [
    {
     "data": {
      "text/plain": [
       "array([ True,  True,  True, False])"
      ]
     },
     "execution_count": 8,
     "metadata": {},
     "output_type": "execute_result"
    }
   ],
   "source": [
    "x = np.array([-1.1, 0.0, 3.6, -7.2])\n",
    "y = x.copy()\n",
    "y[3] = 9.0\n",
    "x == y"
   ]
  },
  {
   "cell_type": "markdown",
   "id": "52bd76fc-95e2-42e2-a70e-498e765b25f3",
   "metadata": {},
   "source": [
    "**Scalars versus 1-vectors.** In the mathematical notations of VMLS, 1-vector is considered\n",
    "as a scalar. However, in Python, 1-vectors are not the same as scalars. For\n",
    "list structure, Python distinguishes 1-vector (list with only one element) [2.4] and the\n",
    "number 2.4."
   ]
  },
  {
   "cell_type": "code",
   "execution_count": 9,
   "id": "fc14ccc6-1ffe-493e-b037-165d15162afe",
   "metadata": {},
   "outputs": [
    {
     "data": {
      "text/plain": [
       "False"
      ]
     },
     "execution_count": 9,
     "metadata": {},
     "output_type": "execute_result"
    }
   ],
   "source": [
    "x = 2.4\n",
    "y = [2.4]\n",
    "x == y"
   ]
  },
  {
   "cell_type": "code",
   "execution_count": 10,
   "id": "24547a0c-d902-4194-9ba5-02fe81a38e4b",
   "metadata": {},
   "outputs": [
    {
     "data": {
      "text/plain": [
       "True"
      ]
     },
     "execution_count": 10,
     "metadata": {},
     "output_type": "execute_result"
    }
   ],
   "source": [
    "y[0] == 2.4"
   ]
  },
  {
   "cell_type": "markdown",
   "id": "2766e38e-c6a1-478a-a607-7119cc3201d8",
   "metadata": {},
   "source": [
    "In the last line, Python checks whether the frst element of y is equal to the number 2.4.\n",
    "For numpy arrays, Python compares the elements inside np.array([2.4]) with the\n",
    "scalar. In our example, Python compares the frst (and only) element of y to the number\n",
    "2.4. Hence, numpy 1-vectors behave like scalars."
   ]
  },
  {
   "cell_type": "code",
   "execution_count": 11,
   "id": "fdad9a1b-fa05-4af4-aed4-a0ff9904185b",
   "metadata": {},
   "outputs": [
    {
     "data": {
      "text/plain": [
       "array([ True])"
      ]
     },
     "execution_count": 11,
     "metadata": {},
     "output_type": "execute_result"
    }
   ],
   "source": [
    "x = 2.4\n",
    "y = np.array([2.4])\n",
    "x == y"
   ]
  },
  {
   "cell_type": "markdown",
   "id": "33073b8b-bc47-4ae7-bf1b-bc570231f8da",
   "metadata": {},
   "source": [
    "**Block and stacked vectors.** In Python, we can construct a block vector using the\n",
    "numpy function concatenate(). Remember you need an extra set of parentheses over\n",
    "the vectors that you want to concatenate. The use of numpy array or list structure does\n",
    "not create a huge di\u000b",
    "erence here."
   ]
  },
  {
   "cell_type": "code",
   "execution_count": 12,
   "id": "2598db21-535e-492b-8fb7-493f4887844f",
   "metadata": {},
   "outputs": [
    {
     "name": "stdout",
     "output_type": "stream",
     "text": [
      "[ 1 -2  1  1  0]\n"
     ]
    }
   ],
   "source": [
    "x = np.array([1, -2])\n",
    "y = np.array([1,1,0])\n",
    "z = np.concatenate((x,y))\n",
    "print(z)"
   ]
  },
  {
   "cell_type": "markdown",
   "id": "0fbaf25d-8697-4317-9c3a-3e8b30ef4508",
   "metadata": {},
   "source": [
    "Subvectors and slicing. In VMLS, the mathematical notation r : s denotes the index\n",
    "range r, r+1,...,s and x[r:s] denotes the slice of the vector x from index r to s. In Python,\n",
    "you can extract a slice of a vector using an index range as the argument. Remember,\n",
    "Python indices start from 0 to n 􀀀 1. For the expressing x[a:b] for array x, the slicing\n",
    "selects the element from index a to index b-1. In the code below, x[1:4] select element\n",
    "from index 1 to 3, which means the second to the fourth elements are selected."
   ]
  },
  {
   "cell_type": "code",
   "execution_count": 13,
   "id": "46662656-5d41-49f7-bf9e-94f6efca22f4",
   "metadata": {},
   "outputs": [
    {
     "name": "stdout",
     "output_type": "stream",
     "text": [
      "[8 3 2]\n"
     ]
    }
   ],
   "source": [
    "x = np.array([1,8,3,2,1,9,7])\n",
    "y = x[1:4]\n",
    "print(y)"
   ]
  },
  {
   "cell_type": "markdown",
   "id": "01f3f9fe-8efc-4474-8ef2-f129f3a8a9e6",
   "metadata": {},
   "source": [
    "You can also use index ranges to assign a slice of a vector. In the code below, we\n",
    "reassigned index 3 to 5 in array x."
   ]
  },
  {
   "cell_type": "code",
   "execution_count": 14,
   "id": "b6d80460-6d14-472b-a17a-fe053721883e",
   "metadata": {},
   "outputs": [
    {
     "name": "stdout",
     "output_type": "stream",
     "text": [
      "[  1   8   3 100 200 300   7]\n"
     ]
    }
   ],
   "source": [
    "x[3:6] = [100,200,300]\n",
    "print(x)"
   ]
  },
  {
   "cell_type": "markdown",
   "id": "806084d5-0283-4ceb-8f64-4391f53876e7",
   "metadata": {},
   "source": [
    "You can also use slicing to select all elements in the array starting from a certain index"
   ]
  },
  {
   "cell_type": "code",
   "execution_count": 15,
   "id": "9e18fe39-3b8f-42aa-932d-e2c11f6e4984",
   "metadata": {},
   "outputs": [
    {
     "data": {
      "text/plain": [
       "array([3, 2, 1, 9, 7])"
      ]
     },
     "execution_count": 15,
     "metadata": {},
     "output_type": "execute_result"
    }
   ],
   "source": [
    "x = np.array([1,8,3,2,1,9,7])\n",
    "x[2:]"
   ]
  },
  {
   "cell_type": "code",
   "execution_count": 16,
   "id": "ffc6cf8d-43c1-4de6-af79-107af69a52f5",
   "metadata": {},
   "outputs": [
    {
     "data": {
      "text/plain": [
       "array([1, 8, 3, 2, 1, 9])"
      ]
     },
     "execution_count": 16,
     "metadata": {},
     "output_type": "execute_result"
    }
   ],
   "source": [
    "x[:-1]"
   ]
  },
  {
   "cell_type": "code",
   "execution_count": 17,
   "id": "3ea9dc89-bf99-480e-842d-0901f53e919d",
   "metadata": {},
   "outputs": [
    {
     "data": {
      "text/plain": [
       "array([1, 3, 1, 7])"
      ]
     },
     "execution_count": 17,
     "metadata": {},
     "output_type": "execute_result"
    }
   ],
   "source": [
    "# element with an increment of 2\n",
    "x[::2]"
   ]
  },
  {
   "cell_type": "code",
   "execution_count": 18,
   "id": "3dc8f802-261a-49d2-8dcc-1ea13416c463",
   "metadata": {},
   "outputs": [
    {
     "data": {
      "text/plain": [
       "array([7, 9, 1, 2, 3, 8, 1])"
      ]
     },
     "execution_count": 18,
     "metadata": {},
     "output_type": "execute_result"
    }
   ],
   "source": [
    "# reversed vector\n",
    "x[::-1]"
   ]
  },
  {
   "cell_type": "code",
   "execution_count": 19,
   "id": "0c4c91fd-b5f8-4436-81a8-7db136108202",
   "metadata": {},
   "outputs": [
    {
     "name": "stdout",
     "output_type": "stream",
     "text": [
      "[ 7 -5 -1 -1  8 -2]\n"
     ]
    }
   ],
   "source": [
    "# Vector of frst diferences.\n",
    "x = np.array([1,8,3,2,1,9,7])\n",
    "d = x[1:] - x[:-1]\n",
    "print(d)"
   ]
  },
  {
   "cell_type": "code",
   "execution_count": 20,
   "id": "c9080e9c-90fc-4d20-ba60-05860e38bcbf",
   "metadata": {},
   "outputs": [
    {
     "name": "stdout",
     "output_type": "stream",
     "text": [
      "[ 7 -5 -1 -1  8 -2]\n"
     ]
    }
   ],
   "source": [
    "# Inbuilt method for fifferences\n",
    "d = np.diff(x, n=1)\n",
    "print(d)"
   ]
  },
  {
   "cell_type": "markdown",
   "id": "2a28c706-6574-4581-aa9d-3c76ef8eb30f",
   "metadata": {},
   "source": [
    "**Lists of vectors.** An ordered list of n-vectors might be denoted in VMLS"
   ]
  },
  {
   "cell_type": "code",
   "execution_count": 21,
   "id": "f62850d4-3931-4eb3-be3a-63f8b754cfcc",
   "metadata": {},
   "outputs": [
    {
     "data": {
      "text/plain": [
       "[1, -1]"
      ]
     },
     "execution_count": 21,
     "metadata": {},
     "output_type": "execute_result"
    }
   ],
   "source": [
    "x = [1,0]\n",
    "y = [1,-1]\n",
    "z = [0,1]\n",
    "list_of_vectors = [x,y,z]\n",
    "list_of_vectors[1] #Second element of list"
   ]
  },
  {
   "cell_type": "code",
   "execution_count": 22,
   "id": "7c9c619d-f312-4dfc-8598-7dffe873307f",
   "metadata": {},
   "outputs": [
    {
     "data": {
      "text/plain": [
       "1"
      ]
     },
     "execution_count": 22,
     "metadata": {},
     "output_type": "execute_result"
    }
   ],
   "source": [
    "list_of_vectors[1][0] #First entry in second element of list"
   ]
  },
  {
   "cell_type": "markdown",
   "id": "bcd96c75-c628-4664-83d3-7e5fd4a3758e",
   "metadata": {},
   "source": [
    "**Zero vectors.** We can create a zero vector of size n using np.zeros(n). The expression\n",
    "np.zeros(len(x)) creates a zero vector with the same dimension as vector x."
   ]
  },
  {
   "cell_type": "code",
   "execution_count": 23,
   "id": "093ede1c-40c4-4ebf-8312-0788167c85fd",
   "metadata": {},
   "outputs": [
    {
     "data": {
      "text/plain": [
       "array([0., 0., 0.])"
      ]
     },
     "execution_count": 23,
     "metadata": {},
     "output_type": "execute_result"
    }
   ],
   "source": [
    "np.zeros(3)"
   ]
  },
  {
   "cell_type": "markdown",
   "id": "62f091e2-2bd3-4cdd-bb2e-5bf88f645762",
   "metadata": {},
   "source": [
    "**Unit vectors.** We can create ei, the ith unit vector of length n using index."
   ]
  },
  {
   "cell_type": "code",
   "execution_count": 24,
   "id": "270ee1a3-d871-44dd-a5bf-7feb906ff453",
   "metadata": {},
   "outputs": [
    {
     "name": "stdout",
     "output_type": "stream",
     "text": [
      "[0. 0. 1. 0.]\n"
     ]
    }
   ],
   "source": [
    "import numpy as np\n",
    "i = 2\n",
    "n = 4\n",
    "x = np.zeros(n)\n",
    "x[i] = 1\n",
    "print(x)"
   ]
  },
  {
   "cell_type": "markdown",
   "id": "2de296e5-8383-4776-a131-118090fce057",
   "metadata": {},
   "source": [
    "**Ones vector.** We can create a ones vector of size n using np.ones(n). The expression\n",
    "np.ones(len(x)) creates a ones vector with the same dimension as vector x."
   ]
  },
  {
   "cell_type": "code",
   "execution_count": 25,
   "id": "d8a14dfe-cd29-4586-8909-27179ee4e762",
   "metadata": {},
   "outputs": [
    {
     "data": {
      "text/plain": [
       "array([1., 1., 1.])"
      ]
     },
     "execution_count": 25,
     "metadata": {},
     "output_type": "execute_result"
    }
   ],
   "source": [
    "np.ones(3)"
   ]
  },
  {
   "cell_type": "markdown",
   "id": "0bd36511-cd04-4779-99dc-191d539e3fef",
   "metadata": {},
   "source": [
    "**Random vectors.** Sometimes it is useful to generate random vectors to check our algorithm\n",
    "or test an identity. In Python, we generate a random vector of size n using\n",
    "np.random.random(n)."
   ]
  },
  {
   "cell_type": "code",
   "execution_count": 26,
   "id": "528eb1ec-85cc-4510-ae63-d224f6b1bf64",
   "metadata": {},
   "outputs": [
    {
     "data": {
      "text/plain": [
       "array([0.01712077, 0.75964219])"
      ]
     },
     "execution_count": 26,
     "metadata": {},
     "output_type": "execute_result"
    }
   ],
   "source": [
    "np.random.random(2)"
   ]
  },
  {
   "cell_type": "markdown",
   "id": "5e9b3c61-f95a-44d4-a615-0242e74a3018",
   "metadata": {},
   "source": [
    "**Plotting.** There are several external packages for creating plots in Python. One such\n",
    "package is matplotlib"
   ]
  },
  {
   "cell_type": "markdown",
   "id": "3f167f9e-2d4e-4fe5-8d45-adef3d5c76fa",
   "metadata": {},
   "source": [
    "The syntax -bo indicates plotting with line (-) with circle marker (o) in blue (b). To show the plot in the interactive session or the notebook, we need to set the interactive output on with plt.ion() and then use the command plt.show()."
   ]
  },
  {
   "cell_type": "code",
   "execution_count": 27,
   "id": "ab6b947a-4dc6-4a23-9b6a-a0419b4b095b",
   "metadata": {},
   "outputs": [
    {
     "data": {
      "image/png": "[encoded data removed]",
      "text/plain": [
       "<Figure size 432x288 with 1 Axes>"
      ]
     },
     "metadata": {
      "needs_background": "light"
     },
     "output_type": "display_data"
    }
   ],
   "source": [
    "import matplotlib.pyplot as plt\n",
    "plt.ion()\n",
    "temps = [ 71, 71, 68, 69, 68, 69, 68, 74, 77, 82, 85, 86, 88, 86,\n",
    "        85, 86, 84, 79, 77, 75, 73, 71, 70, 70, 69, 69, 69, 69, 67,\n",
    "        68, 68, 73, 76, 77, 82, 84, 84, 81, 80, 78, 79, 78, 73, 72,\n",
    "        70, 70, 68, 67 ]\n",
    "\n",
    "plt.plot(temps,'-bo')\n",
    "plt.savefig('temperature.pdf', format ='pdf')\n",
    "plt.show()"
   ]
  },
  {
   "cell_type": "markdown",
   "id": "9f99b13b-3ab0-4d53-a32c-8b234815ff92",
   "metadata": {},
   "source": [
    "## Vector addition"
   ]
  },
  {
   "cell_type": "markdown",
   "id": "6b0bd002-8559-4ab7-9bc7-3f23d8b3b412",
   "metadata": {},
   "source": [
    "**Vector addition and subtraction.** If x and y are numpy arrays of the same size, x+y\n",
    "and x-y give their sum and diference, respectively."
   ]
  },
  {
   "cell_type": "code",
   "execution_count": 28,
   "id": "ea81726a-b858-4800-a18b-a706801ddb36",
   "metadata": {},
   "outputs": [
    {
     "name": "stdout",
     "output_type": "stream",
     "text": [
      "Sum of arrays: [101 202 303]\n",
      "Difference of arrays: [ -99 -198 -297]\n"
     ]
    }
   ],
   "source": [
    "x = np.array([1,2,3])\n",
    "y = np.array([100,200,300])\n",
    "print(f'Sum of arrays: {x+y}')\n",
    "print(f'Difference of arrays: {x-y}')"
   ]
  },
  {
   "cell_type": "markdown",
   "id": "cc2ee476-ea9c-4f14-b9a7-319784fb4bd7",
   "metadata": {},
   "source": [
    "## Scalar-vector multiplication"
   ]
  },
  {
   "cell_type": "markdown",
   "id": "975413bc-7b91-4142-a511-26b695b56cd4",
   "metadata": {},
   "source": [
    "**Scalar-vector multiplication and division.** If a is a number and x is a numpy array\n",
    "(vector), you can express the scalar-vector product either as a*x or x*a."
   ]
  },
  {
   "cell_type": "code",
   "execution_count": 29,
   "id": "3c0436ee-807f-4128-9a54-c9854651e598",
   "metadata": {},
   "outputs": [
    {
     "name": "stdout",
     "output_type": "stream",
     "text": [
      "[2.2 4.4 6.6]\n"
     ]
    }
   ],
   "source": [
    "x = np.array([1,2,3])\n",
    "print(2.2*x)"
   ]
  },
  {
   "cell_type": "code",
   "execution_count": 30,
   "id": "abb423e8-a9cf-4a48-ad54-beafbc02a04d",
   "metadata": {},
   "outputs": [
    {
     "name": "stdout",
     "output_type": "stream",
     "text": [
      "[0.45454545 0.90909091 1.36363636]\n"
     ]
    }
   ],
   "source": [
    "# You can carry out scalar-vector division as x/a.\n",
    "x = np.array([1,2,3])\n",
    "print(x/2.2)"
   ]
  },
  {
   "cell_type": "markdown",
   "id": "421ac40b-d46c-455b-8e4b-79d640cd0bdf",
   "metadata": {},
   "source": [
    "**Scalar-vector addition.** In Python, you can add a scalar a and a numpy array (vector)\n",
    "x using x+a. This means that the scalar is added to each element of the vector. This\n",
    "is, however, NOT a standard mathematical notation. In mathematical notations, we\n",
    "should denote this as, e.g. x + a1, where x is an n-vector and a is a scalar."
   ]
  },
  {
   "cell_type": "code",
   "execution_count": 31,
   "id": "eff95387-f0c7-4d1e-abeb-9f88c237a778",
   "metadata": {},
   "outputs": [
    {
     "name": "stdout",
     "output_type": "stream",
     "text": [
      "[3 4 5 6]\n"
     ]
    }
   ],
   "source": [
    "x = np.array([1,2,3,4])\n",
    "print(x + 2)"
   ]
  },
  {
   "cell_type": "markdown",
   "id": "30441f24-31a3-4dee-a13e-6817ace04138",
   "metadata": {},
   "source": [
    "**Elementwise operations.** In Python we can perform elementwise operations on numpy\n",
    "arrays. For numpy arrays of the same length x and y, the expressions x * y, x / y and\n",
    "x ** y give the resulting vectors of the same length as x and y and ith element xiyi, xi=yi, and xiyi respectively."
   ]
  },
  {
   "cell_type": "code",
   "execution_count": 32,
   "id": "8c743181-b0c7-4e99-8721-1d19f49c74e5",
   "metadata": {},
   "outputs": [
    {
     "name": "stdout",
     "output_type": "stream",
     "text": [
      "[ 0.04063205 -0.0223914  -0.06411837]\n"
     ]
    }
   ],
   "source": [
    "p_initial = np.array([22.15, 89.32, 56.77])\n",
    "p_final = np.array([23.05, 87.32, 53.13])\n",
    "r = (p_final - p_initial) / p_initial\n",
    "print(r)"
   ]
  },
  {
   "cell_type": "markdown",
   "id": "da4364c6-bce5-405f-a0f7-c17240dfb1e4",
   "metadata": {},
   "source": [
    "**Linear combination.** You can form a linear combination is Python using scalar-vector\n",
    "multiplication and addition."
   ]
  },
  {
   "cell_type": "code",
   "execution_count": 33,
   "id": "ffadf315-68cb-4c1c-82e9-94851ed7bd10",
   "metadata": {},
   "outputs": [
    {
     "name": "stdout",
     "output_type": "stream",
     "text": [
      "[4. 5.]\n"
     ]
    }
   ],
   "source": [
    "a = np.array([1,2])\n",
    "b = np.array([3,4])\n",
    "alpha = -0.5\n",
    "beta = 1.5\n",
    "c = alpha*a + beta*b\n",
    "print(c)"
   ]
  },
  {
   "cell_type": "markdown",
   "id": "4a923495-31aa-468b-acc6-66aae4012e1d",
   "metadata": {},
   "source": [
    "To illustrate some additional Python syntax, we create a function that takes a list\n",
    "of coefcients and a list of vectors as its argument (input), and returns the linear\n",
    "combination (output)."
   ]
  },
  {
   "cell_type": "code",
   "execution_count": 34,
   "id": "6869c41d-ebcb-4aca-bfb2-e062a9ff31b0",
   "metadata": {},
   "outputs": [
    {
     "data": {
      "text/plain": [
       "array([4., 5.])"
      ]
     },
     "execution_count": 34,
     "metadata": {},
     "output_type": "execute_result"
    }
   ],
   "source": [
    "def lincomb(coef, vectors):\n",
    "    n = len(vectors[0])\n",
    "    comb = np.zeros(n)\n",
    "    for i in range(len(vectors)):\n",
    "        comb = comb + coef[i] * vectors[i]\n",
    "    return comb\n",
    "lincomb([alpha, beta], [a,b])"
   ]
  },
  {
   "cell_type": "markdown",
   "id": "ea8a23ca-cd9c-470d-ad49-f8d7a8826529",
   "metadata": {},
   "source": [
    "**Checking properties.** Let's check the distributive property\n",
    "<br>\n",
    "$\\beta*(a + b) = \\beta *a + \\beta * b $"
   ]
  },
  {
   "cell_type": "code",
   "execution_count": 35,
   "id": "0d351050-6290-4d22-8e93-7ec135447d05",
   "metadata": {},
   "outputs": [
    {
     "name": "stdout",
     "output_type": "stream",
     "text": [
      "a : [0.72237476 0.86904523 0.34737018]\n",
      "b : [0.19665312 0.03162192 0.24514882]\n",
      "beta : 0.2910088325571244\n",
      "Is LHS and RHS are the same? : [ True  True  True]\n",
      "Is all elements of LHS and RHS are close? : [ True  True  True]\n",
      "Is all elements of LHS and RHS are close? : True\n"
     ]
    }
   ],
   "source": [
    "a = np.random.random(3)\n",
    "b = np.random.random(3)\n",
    "beta = np.random.random()\n",
    "lhs = beta*(a+b)\n",
    "rhs = beta*a + beta*b\n",
    "print(f'a : {a}')\n",
    "print(f'b : {b}')\n",
    "print(f'beta : {beta}')\n",
    "print(f'Is LHS and RHS are the same? : {lhs == rhs}')\n",
    "print(f'Is all elements of LHS and RHS are close? : {np.isclose(lhs,rhs,atol=1e-08)}')\n",
    "print(f'Is all elements of LHS and RHS are close? : {np.allclose(lhs,rhs,atol=1e-08)}')\n"
   ]
  },
  {
   "cell_type": "markdown",
   "id": "7c2f1e6b-a9d1-4e49-acd9-992103ef4629",
   "metadata": {},
   "source": [
    "## Inner Product"
   ]
  },
  {
   "cell_type": "markdown",
   "id": "2738b9d0-ed1a-4e86-8db7-5d3e5a428a8e",
   "metadata": {},
   "source": [
    "**Inner product.** The inner product of n-vector x and y is denoted as $x^Ty$. In Python\n",
    "the inner product of x and y can be found using np.inner(x,y)"
   ]
  },
  {
   "cell_type": "code",
   "execution_count": 36,
   "id": "1461e3ee-df39-4276-9b7e-71279bb3dabd",
   "metadata": {},
   "outputs": [
    {
     "name": "stdout",
     "output_type": "stream",
     "text": [
      "-7\n"
     ]
    }
   ],
   "source": [
    "x = np.array([-1,2,2])\n",
    "y = np.array([1,0,-3])\n",
    "print(np.inner(x,y))"
   ]
  },
  {
   "cell_type": "code",
   "execution_count": 37,
   "id": "37794546-01ec-4ab7-9c97-05a9e2dacf18",
   "metadata": {},
   "outputs": [
    {
     "data": {
      "text/plain": [
       "-7"
      ]
     },
     "execution_count": 37,
     "metadata": {},
     "output_type": "execute_result"
    }
   ],
   "source": [
    "x = np.array([-1,2,2])\n",
    "y = np.array([1,0,-3])\n",
    "x @ y"
   ]
  },
  {
   "cell_type": "markdown",
   "id": "7e07ea5f-1800-444e-b08a-d1d8feb773d3",
   "metadata": {},
   "source": [
    "**Net present value.** As an example, the following code snippet finds the net present value (NPV) of a cash flow vector c, with per-period interest rate r."
   ]
  },
  {
   "cell_type": "code",
   "execution_count": 38,
   "id": "dd79fe8e-02bb-4b83-80fc-b2715e4c71c0",
   "metadata": {},
   "outputs": [
    {
     "name": "stdout",
     "output_type": "stream",
     "text": [
      "1.236162401468524\n"
     ]
    }
   ],
   "source": [
    "c = np.array([0.1,0.1,0.1,1.1]) #cash flow vector\n",
    "n = len(c)\n",
    "r = 0.05 #5% per-period interest rate\n",
    "d = np.array([(1+r)**-i for i in range(n)])\n",
    "NPV = c @ d\n",
    "print(NPV)"
   ]
  },
  {
   "cell_type": "markdown",
   "id": "45afb49d-501a-401f-8434-a5f892fb3900",
   "metadata": {},
   "source": [
    "**Total school-age population.** Suppose that the 100-vector x gives the age distribution of some population, with xi the number of people of age $i - 1$, for $i = 1, . . ., 100$. The total number of people with age between 5 and 18 (inclusive) is given by \n",
    "</br>\n",
    "$x6 + x7 + . . . + x18 + x19$\n",
    "</br>\n",
    "We can express this as $s^T x$ where s is the vector with entries one for $i = 6, . . . ,19$ and zero otherwise. In Python, this is expressed as"
   ]
  },
  {
   "cell_type": "code",
   "execution_count": 48,
   "id": "cff4a503-9d14-46a3-aa70-52626fd6c157",
   "metadata": {},
   "outputs": [
    {
     "name": "stdout",
     "output_type": "stream",
     "text": [
      "4317.0\n"
     ]
    }
   ],
   "source": [
    "x = np.random.randint(100, 500, 100)\n",
    "s = np.concatenate([np.zeros(5), np.ones(14), np.zeros(81)])\n",
    "school_age_pop = s @ x\n",
    "print(school_age_pop)"
   ]
  }
 ],
 "metadata": {
  "kernelspec": {
   "display_name": "Python 3 (ipykernel)",
   "language": "python",
   "name": "python3"
  },
  "language_info": {
   "codemirror_mode": {
    "name": "ipython",
    "version": 3
   },
   "file_extension": ".py",
   "mimetype": "text/x-python",
   "name": "python",
   "nbconvert_exporter": "python",
   "pygments_lexer": "ipython3",
   "version": "3.9.13"
  }
 },
 "nbformat": 4,
 "nbformat_minor": 5
}
