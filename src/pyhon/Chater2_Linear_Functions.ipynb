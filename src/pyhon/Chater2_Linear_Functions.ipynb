{
 "cells": [
  {
   "cell_type": "markdown",
   "id": "61248be0-fe31-4c8c-972a-ef6092abf463",
   "metadata": {},
   "source": [
    "# Linear functions"
   ]
  },
  {
   "cell_type": "markdown",
   "id": "b54c6171-1631-4b91-ac07-db1dab6547f7",
   "metadata": {},
   "source": [
    "## Linear functions"
   ]
  },
  {
   "cell_type": "code",
   "execution_count": 1,
   "id": "3a4ff3f0-a5a6-4cc8-a821-88f96dad7d12",
   "metadata": {},
   "outputs": [],
   "source": [
    "import numpy as np"
   ]
  },
  {
   "cell_type": "markdown",
   "id": "242484dd-c712-4a19-95d7-cf694fd8eb68",
   "metadata": {},
   "source": [
    "**Functions in Python.** Python provides several methods for defning functions. One simple way is to use lambda functions. A simple function given by an expression such as $f(x) = x_{1} + x_{2} - x_{4}^2$ can be defned in a single line."
   ]
  },
  {
   "cell_type": "code",
   "execution_count": 2,
   "id": "ce9fa5ba-7c9f-45ec-8292-ddbaf321fa01",
   "metadata": {},
   "outputs": [
    {
     "data": {
      "text/plain": [
       "-5"
      ]
     },
     "execution_count": 2,
     "metadata": {},
     "output_type": "execute_result"
    }
   ],
   "source": [
    "f = lambda x: x[0] + x[1] - x[3]**2\n",
    "f([-1,0,1,2])"
   ]
  },
  {
   "cell_type": "markdown",
   "id": "a878c40f-d731-4a50-a654-b538c98ffb72",
   "metadata": {},
   "source": [
    "**Superposition.** Suppose a is an n-vector. The function $f(x) = a^T x$ is linear, which means that for any n-vectors x and y, and any scalars $\\alpha$ and $\\beta$, the superposition equality\n",
    "$$f(\\alpha x + \\beta y) = \\alpha f(x) + \\beta f(y)$$\n",
    "holds. Superposition says that evaluating f at a linear combination of two vectors is the same as forming the linear combination of f evaluated at the two vectors.\n",
    "</br>\n",
    "Let's define the inner product function f for a specific value of a, and then verify superposition in Python for specific values of x, y, $\\alpha$, and $\\beta$. (This check does not show that the function is linear. It simply checks that superposition holds for these specific values.)"
   ]
  },
  {
   "cell_type": "code",
   "execution_count": 3,
   "id": "b7a5cd6b-d1b8-40e7-91ce-3c08f28d4034",
   "metadata": {
    "tags": []
   },
   "outputs": [
    {
     "name": "stdout",
     "output_type": "stream",
     "text": [
      "LHS: -8.3\n",
      "RHS: -8.3\n"
     ]
    }
   ],
   "source": [
    "a = np.array([-2,0,1,-3])\n",
    "x = np.array([2,2,-1,1])\n",
    "y = np.array([0,1,-1,0])\n",
    "alpha = 1.5\n",
    "beta = -3.7\n",
    "LHS = np.inner(alpha*x + beta*y, a)\n",
    "RHS = alpha*np.inner(x,a) + beta*np.inner(y,a)\n",
    "print(f'LHS: {LHS}')\n",
    "print(f'RHS: {RHS}')"
   ]
  },
  {
   "cell_type": "markdown",
   "id": "579e316e-488e-4e82-b823-35c55c79618d",
   "metadata": {},
   "source": [
    "For the function $f(x) = a^T x$, we have $f(e_3) = a_3$. Let's check that this holds in our example."
   ]
  },
  {
   "cell_type": "code",
   "execution_count": 4,
   "id": "567a14f7-ce7d-4551-9e0c-3e32ebe5e41d",
   "metadata": {},
   "outputs": [
    {
     "name": "stdout",
     "output_type": "stream",
     "text": [
      "1\n"
     ]
    }
   ],
   "source": [
    "a = np.array([-2,0,1,-3])\n",
    "e3 = np.array([0,0,1,0])\n",
    "a3 = e3 @ a\n",
    "print(a3)"
   ]
  },
  {
   "cell_type": "markdown",
   "id": "a6603f69-dcc7-4ad9-92ca-f517528290f7",
   "metadata": {},
   "source": [
    "**Examples.** Let's define the average function in Python and check its value of a specific vector. (Numpy also contains an average function, which can be called with np.mean."
   ]
  },
  {
   "cell_type": "code",
   "execution_count": 5,
   "id": "7c31118b-51df-4f0c-8ba7-652c7fef6bf9",
   "metadata": {},
   "outputs": [
    {
     "data": {
      "text/plain": [
       "-0.25"
      ]
     },
     "execution_count": 5,
     "metadata": {},
     "output_type": "execute_result"
    }
   ],
   "source": [
    "avg = lambda x: sum(x)/len(x)\n",
    "x = [1,-3,2,-1]\n",
    "avg(x)"
   ]
  },
  {
   "cell_type": "code",
   "execution_count": 6,
   "id": "c293af8f-7ac7-4706-b75c-426aba9db0b4",
   "metadata": {},
   "outputs": [
    {
     "data": {
      "text/plain": [
       "-0.25"
      ]
     },
     "execution_count": 6,
     "metadata": {},
     "output_type": "execute_result"
    }
   ],
   "source": [
    "x = np.array([1,-3,2,-1])\n",
    "np.mean(x)"
   ]
  },
  {
   "cell_type": "markdown",
   "id": "8c391732-deb1-4573-9987-15b2a7444801",
   "metadata": {},
   "source": [
    "## Taylor approximation"
   ]
  },
  {
   "cell_type": "markdown",
   "id": "e1be6e58-4b08-4950-970a-ab44dae64b63",
   "metadata": {},
   "source": [
    "**Taylor approximation.** The (first-order) Taylor approximation of function $f : R^n \\rightarrow R$, at the point *z*, is the affine function $\\hat{f}(x)$ given by $$\\hat{f}(x) = f(z) + \\nabla f(z)^T (x - z)$$ For x near z, $\\hat{f}(x)$ is very close to $f(x)$. Let's try a numerical example (see page 36 of textbook) using Python."
   ]
  },
  {
   "cell_type": "code",
   "execution_count": 7,
   "id": "e0b8e5f6-17f2-4071-a627-7e00fe596fcb",
   "metadata": {},
   "outputs": [],
   "source": [
    "f = lambda x: x[0] + np.exp(x[1] - x[0])\n",
    "grad_f = lambda z: np.array([1 - np.exp(z[1] - z[0]), np.exp(z[1] - z[0])])\n",
    "#Taylor approximation\n",
    "f_hat = lambda x: f(z) + grad_f(z) @ (x - z)"
   ]
  },
  {
   "cell_type": "code",
   "execution_count": 11,
   "id": "3c76b78d-73af-4e2c-83ee-f43db36a9c01",
   "metadata": {},
   "outputs": [
    {
     "data": {
      "text/plain": [
       "(4.718281828459045, 4.718281828459045)"
      ]
     },
     "execution_count": 11,
     "metadata": {},
     "output_type": "execute_result"
    }
   ],
   "source": [
    "z = np.array([1,2])\n",
    "x = np.array([2,3])\n",
    "f(x), f_hat(x)"
   ]
  },
  {
   "cell_type": "markdown",
   "id": "9936625e-7aae-474f-8b9b-f77bea6879af",
   "metadata": {},
   "source": [
    "## Regression model"
   ]
  },
  {
   "cell_type": "markdown",
   "id": "ffc85b5f-77e2-4c26-865a-aa088b311a4a",
   "metadata": {},
   "source": [
    "**Regression model.** The regression model is the afine function of $x$ given by $f(x) = x^T\\beta + v$, where the n-vector $\\beta$ and the scalar $v$ are the parameters in the model. The\n",
    "regression model is used to guess or approximate a real or observed value of the number $y$ that is associated with $x$ (We'll see later how to find the parameters in a regression model using data)."
   ]
  },
  {
   "cell_type": "markdown",
   "id": "c68adc95-6184-4f79-89ab-1a989aeb2482",
   "metadata": {},
   "source": [
    "Let's define the regression model for house sale price described on page 39 of VMLS, and compare its prediction to the true house sale price $y$ for a few values of $x$."
   ]
  },
  {
   "cell_type": "code",
   "execution_count": 34,
   "id": "2d4c4699-1a88-4044-9bff-fb7e3b7ea1fd",
   "metadata": {},
   "outputs": [
    {
     "data": {
      "text/plain": [
       "(161.37557999999999, 115)"
      ]
     },
     "execution_count": 34,
     "metadata": {},
     "output_type": "execute_result"
    }
   ],
   "source": [
    "# parameters in regression model\n",
    "beta = np.array([148.73, -18.85])\n",
    "v = 54.40\n",
    "y_hat = lambda x: x @ beta + v\n",
    "#Evaluate regression model prediction\n",
    "x = np.array([0.846, 1])\n",
    "y = 115\n",
    "y_hat(x), y"
   ]
  },
  {
   "cell_type": "code",
   "execution_count": 35,
   "id": "6d1053dc-ee23-4e11-8f05-7e1c7113419c",
   "metadata": {},
   "outputs": [
    {
     "data": {
      "text/plain": [
       "(213.61852000000002, 234.5)"
      ]
     },
     "execution_count": 35,
     "metadata": {},
     "output_type": "execute_result"
    }
   ],
   "source": [
    "x = np.array([1.324, 2])\n",
    "y = 234.50\n",
    "y_hat(x), y"
   ]
  },
  {
   "cell_type": "markdown",
   "id": "7eaf7fff-d4a0-4418-991d-a3065a893d27",
   "metadata": {},
   "source": [
    "Our first prediction is pretty bad; our second one is better. A scatter plot of predicted and actual house prices (Figure 2.4 of VMLS) can be generated as follows. We use the house_sales_data data set to obtain the vector price, areas, beds (see Appendix B). The data sets we used in this Python language companion can be found on: https://github.com/jessica-wyleung/VMLS-py. You can download the jupyter\n",
    "notebook from the repository and work on it directly or you can copy and paste the data set onto your own jupyter notebook."
   ]
  },
  {
   "cell_type": "code",
   "execution_count": 36,
   "id": "1e844003-98f8-42ae-b963-4a7d853c3172",
   "metadata": {},
   "outputs": [],
   "source": [
    "from house_price import house_sales_data\n",
    "import matplotlib.pyplot as plt"
   ]
  },
  {
   "cell_type": "code",
   "execution_count": 42,
   "id": "57074282-5d2d-48a0-9af5-6e199a4913cd",
   "metadata": {},
   "outputs": [
    {
     "data": {
      "image/png": "[encoded data removed]",
      "text/plain": [
       "<Figure size 576x576 with 1 Axes>"
      ]
     },
     "metadata": {
      "needs_background": "light"
     },
     "output_type": "display_data"
    }
   ],
   "source": [
    "plt.ion()\n",
    "plt.rcParams[\"figure.figsize\"] = (8,8)\n",
    "D = house_sales_data()\n",
    "price = D['price']\n",
    "area = D['area']\n",
    "beds = D['beds']\n",
    "v = 54.4017\n",
    "beta = np.array([147.7251, -18.8534])\n",
    "predicted = v + beta[0]*area + beta[1]*beds\n",
    "plt.scatter(price, predicted)\n",
    "plt.plot((0,800),(0,800) ,ls='--', c ='r')\n",
    "plt.ylim(0,800)\n",
    "plt.xlim(0,800)\n",
    "plt.xlabel('Actual Price')\n",
    "plt.ylabel('Predicted Price')\n",
    "plt.show()"
   ]
  },
  {
   "cell_type": "code",
   "execution_count": 54,
   "id": "b7babd92-5d0b-450d-b330-3fddf9259643",
   "metadata": {},
   "outputs": [
    {
     "data": {
      "text/plain": [
       "(0.0, 100.0)"
      ]
     },
     "execution_count": 54,
     "metadata": {},
     "output_type": "execute_result"
    },
    {
     "data": {
      "image/png": "[encoded data removed]",
      "text/plain": [
       "<Figure size 576x576 with 1 Axes>"
      ]
     },
     "metadata": {
      "needs_background": "light"
     },
     "output_type": "display_data"
    }
   ],
   "source": [
    "plt.plot([0,100], [0,100],ls='--', c ='r')\n",
    "plt.grid()\n",
    "plt.ylim(0,100)\n",
    "plt.xlim(0,100)"
   ]
  }
 ],
 "metadata": {
  "kernelspec": {
   "display_name": "Python 3 (ipykernel)",
   "language": "python",
   "name": "python3"
  },
  "language_info": {
   "codemirror_mode": {
    "name": "ipython",
    "version": 3
   },
   "file_extension": ".py",
   "mimetype": "text/x-python",
   "name": "python",
   "nbconvert_exporter": "python",
   "pygments_lexer": "ipython3",
   "version": "3.9.13"
  }
 },
 "nbformat": 4,
 "nbformat_minor": 5
}
