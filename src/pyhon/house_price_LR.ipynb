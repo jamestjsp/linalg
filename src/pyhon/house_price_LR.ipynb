{
 "cells": [
  {
   "cell_type": "code",
   "execution_count": 1,
   "id": "75cf1a6e-3219-4ca6-a23c-df9ccd628e9d",
   "metadata": {},
   "outputs": [],
   "source": [
    "import numpy as np\n",
    "import pandas as pd"
   ]
  },
  {
   "cell_type": "code",
   "execution_count": 2,
   "id": "540d86c6-00aa-45b9-a0af-be350099f59c",
   "metadata": {},
   "outputs": [],
   "source": [
    "df = pd.read_excel(\"..\\data\\house_price.xlsx\", index_col=\"House\")"
   ]
  },
  {
   "cell_type": "code",
   "execution_count": 3,
   "id": "36403044-ddec-4d93-a4f4-04d2e4ccbdb1",
   "metadata": {},
   "outputs": [],
   "source": [
    "n = len(df)\n",
    "x = df[[\"Area\", \"Beds\"]].to_numpy().reshape(n,2)\n",
    "y = df[\"Price\"].to_numpy().reshape(n,1)"
   ]
  },
  {
   "cell_type": "code",
   "execution_count": 4,
   "id": "ebf22f44-b14f-4129-a0de-dfbd9b5f9194",
   "metadata": {},
   "outputs": [
    {
     "name": "stdout",
     "output_type": "stream",
     "text": [
      "shape of input (5, 2)\n",
      "shape of output (5, 1)\n"
     ]
    }
   ],
   "source": [
    "print(f\"shape of input {x.shape}\")\n",
    "print(f\"shape of output {y.shape}\")"
   ]
  }
 ],
 "metadata": {
  "kernelspec": {
   "display_name": "Python 3 (ipykernel)",
   "language": "python",
   "name": "python3"
  },
  "language_info": {
   "codemirror_mode": {
    "name": "ipython",
    "version": 3
   },
   "file_extension": ".py",
   "mimetype": "text/x-python",
   "name": "python",
   "nbconvert_exporter": "python",
   "pygments_lexer": "ipython3",
   "version": "3.9.12"
  }
 },
 "nbformat": 4,
 "nbformat_minor": 5
}
