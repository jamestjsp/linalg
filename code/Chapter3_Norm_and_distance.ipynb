{
 "cells": [
  {
   "cell_type": "markdown",
   "id": "eddcda7f-6364-47d1-9888-1cc104da2685",
   "metadata": {},
   "source": [
    "# Norm and distance"
   ]
  },
  {
   "cell_type": "markdown",
   "id": "cd60ffc3-b662-494f-b9d0-03efac1b800b",
   "metadata": {},
   "source": [
    "## Norm"
   ]
  },
  {
   "cell_type": "markdown",
   "id": "207f43b8-a3a5-4434-bffa-cb783851bef9",
   "metadata": {},
   "source": [
    "**Norm.** The norm $\\|x\\|$ can be computed in Python using *np.linalg.norm(x)*. (It can be evaluated in several other ways too.) The *np.linalg.norm* function is contained in the numpy package linalg."
   ]
  },
  {
   "cell_type": "code",
   "execution_count": 2,
   "id": "09ddd044-a2f2-4799-9fe3-be0d82db910c",
   "metadata": {},
   "outputs": [],
   "source": [
    "import numpy as np"
   ]
  },
  {
   "cell_type": "code",
   "execution_count": 3,
   "id": "3a62e716-2829-4e99-b7bc-93c71c27e7d3",
   "metadata": {},
   "outputs": [
    {
     "name": "stdout",
     "output_type": "stream",
     "text": [
      "3.0\n"
     ]
    }
   ],
   "source": [
    "x = np.array([2,-1,2])\n",
    "print(np.linalg.norm(x))"
   ]
  },
  {
   "cell_type": "code",
   "execution_count": 4,
   "id": "e64dde15-d96d-4db1-9e2b-b34a23464ad8",
   "metadata": {},
   "outputs": [
    {
     "name": "stdout",
     "output_type": "stream",
     "text": [
      "3.0\n"
     ]
    }
   ],
   "source": [
    "print(np.sqrt(np.inner(x,x)))"
   ]
  },
  {
   "cell_type": "code",
   "execution_count": 6,
   "id": "91fc356d-50b3-47df-99cf-a1a5fb710f94",
   "metadata": {},
   "outputs": [
    {
     "name": "stdout",
     "output_type": "stream",
     "text": [
      "3.0\n"
     ]
    }
   ],
   "source": [
    "print((sum(x**2)**0.5))"
   ]
  },
  {
   "cell_type": "markdown",
   "id": "0e39d0c6-cf7f-49e0-8802-5e828b7a6a1b",
   "metadata": {},
   "source": [
    "**Triangle inequality.** Let's check the triangle inequality, $\\|x + y\\| \\le \\|x\\| + \\|y\\|$, for some specific values of $x$ and $y$."
   ]
  },
  {
   "cell_type": "code",
   "execution_count": 7,
   "id": "905e7413-fd3d-4d1d-b9f6-d5bd15991ed8",
   "metadata": {},
   "outputs": [
    {
     "name": "stdout",
     "output_type": "stream",
     "text": [
      "LHS: 2.929257867665516\n",
      "RHS: 3.160278501924304\n"
     ]
    }
   ],
   "source": [
    "x = np.random.random(10)\n",
    "y = np.random.random(10)\n",
    "LHS = np.linalg.norm(x+y)\n",
    "RHS = np.linalg.norm(x) + np.linalg.norm(y)\n",
    "print(f'LHS: {LHS}')\n",
    "print(f'RHS: {RHS}')"
   ]
  },
  {
   "cell_type": "markdown",
   "id": "2e1320ed-32ce-48f1-8184-7de32f7a7c7a",
   "metadata": {},
   "source": [
    "**RMS value.** The RMS value of a vector x is $rms(x) = \\|x\\| \\sqrt{n}$. In Python, this is expressed as **np.linalg.norm(x)/np.sqrt(len(x))**. Let's define a vector (which represents a signal, i.e. the value of some quantity at uniformly space time instances), and find its RMS value."
   ]
  },
  {
   "cell_type": "code",
   "execution_count": 8,
   "id": "fb04f83b-c7c3-47c3-8eae-c403b2301746",
   "metadata": {},
   "outputs": [
    {
     "name": "stdout",
     "output_type": "stream",
     "text": [
      "-0.042529437832386836\n"
     ]
    }
   ],
   "source": [
    "rms = lambda x: (sum(x**2)**0.5)/(len(x)**0.5)\n",
    "t = np.arange(0,1.01,0.01)\n",
    "x = np.cos(8*t) - 2*np.sin(11*t)\n",
    "print(sum(x)/len(x))"
   ]
  },
  {
   "cell_type": "code",
   "execution_count": 10,
   "id": "76fd2133-1710-42a9-8fca-2ae2b64a7c01",
   "metadata": {},
   "outputs": [
    {
     "name": "stdout",
     "output_type": "stream",
     "text": [
      "1.0837556422598\n"
     ]
    }
   ],
   "source": [
    "print(rms(x))"
   ]
  },
  {
   "cell_type": "code",
   "execution_count": 9,
   "id": "7ec036b9-9f1b-48f1-84b7-9bcf99b37360",
   "metadata": {},
   "outputs": [
    {
     "data": {
      "image/png": "[encoded data removed]",
      "text/plain": [
       "<Figure size 432x288 with 1 Axes>"
      ]
     },
     "metadata": {
      "needs_background": "light"
     },
     "output_type": "display_data"
    }
   ],
   "source": [
    "import matplotlib.pyplot as plt\n",
    "plt.ion()\n",
    "plt.plot(t,x)\n",
    "plt.plot(t, np.mean(x)*np.ones(len(x)))\n",
    "plt.plot(t, (np.mean(x) + rms(x))*np.ones(len(x)), 'g')\n",
    "plt.plot(t, (np.mean(x) - rms(x))*np.ones(len(x)), 'g')\n",
    "plt.show()"
   ]
  },
  {
   "cell_type": "markdown",
   "id": "d376f7d8-86a3-44ed-b988-3a4145a90456",
   "metadata": {},
   "source": [
    "**Chebyshev inequality.** The Chebyshev inequality states that the number of entries of an n-vector x that have absolute value at least a is no more than $\\|x\\|^2/a^2 = n*rms(x)^2/a^2$. If the number is, say, 12.15, we can conclude that no more than 12 entries have absolute value at least a, since the number of entries is an integer. So the Chebyshev bound can be improved to be $floor(\\|x^2\\|/a)$, where $floor(u)$ is the integer part of a positive number. Let's define a function with the Chebyshev bound, including the floor function improvement, and apply the bound to the signal found above, for a specific value of a."
   ]
  },
  {
   "cell_type": "code",
   "execution_count": 11,
   "id": "3e9b97f1-8fd3-4d4f-8998-e9b377839431",
   "metadata": {},
   "outputs": [
    {
     "name": "stdout",
     "output_type": "stream",
     "text": [
      "79\n"
     ]
    }
   ],
   "source": [
    "# Define Chebyshev bound function\n",
    "import math\n",
    "cheb_bound = lambda x,a: math.floor(sum(x**2)/a)\n",
    "a = 1.5\n",
    "print(cheb_bound(x,a))"
   ]
  },
  {
   "cell_type": "code",
   "execution_count": 12,
   "id": "9f2a8877-389e-4583-9865-968e142948b3",
   "metadata": {},
   "outputs": [
    {
     "name": "stdout",
     "output_type": "stream",
     "text": [
      "20\n"
     ]
    }
   ],
   "source": [
    "# Number of entries of x with |x_i| >= a\n",
    "print(sum(abs(x) >= a))"
   ]
  }
 ],
 "metadata": {
  "kernelspec": {
   "display_name": "Python 3 (ipykernel)",
   "language": "python",
   "name": "python3"
  },
  "language_info": {
   "codemirror_mode": {
    "name": "ipython",
    "version": 3
   },
   "file_extension": ".py",
   "mimetype": "text/x-python",
   "name": "python",
   "nbconvert_exporter": "python",
   "pygments_lexer": "ipython3",
   "version": "3.9.13"
  }
 },
 "nbformat": 4,
 "nbformat_minor": 5
}
